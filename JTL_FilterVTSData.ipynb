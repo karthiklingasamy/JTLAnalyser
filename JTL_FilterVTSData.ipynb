{
 "cells": [
  {
   "cell_type": "code",
   "execution_count": 2,
   "metadata": {},
   "outputs": [],
   "source": [
    "strings = (\"VTS_Txn\",\"VTS_Request\", \"HTTP Request\",'VTS_Txn_Init_SCN01','VTS_Txn_Init_SCN02',\n",
    "           'VTS_Txn_Init_SCN03','VTS_Txn_Init_SCN04','VTS_Txn_Init_SCN05','VTS_Txn_Init_SCN06',\n",
    "           'VTS_Txn_Init_SCN07','VTS_Txn_Init_SCN08','VTS_Txn_Init_SCN09','VTS_Txn_Init_SCN10',\n",
    "          'VTS_Txn_Init_SCN11','VTS_Txn_Init_SCN12','VTS_Txn_Init_SCN13','VTS_Txn_Init_SCN14',\n",
    "          'VTS_Txn_Init_SCN15','VTS_Txn_Init_SCN16','VTS_Txn_Init_SCN17','VTS_Txn_Init_SCN18',\n",
    "           'VTS_Txn_Init_SCN19','VTS_Txn_Init_SCN20',)\n",
    "with open ('D:\\\\Projects\\\\AllSec\\\\Scripts\\\\Reports\\\\smoketest_02_Apr\\\\SmokeTest1_85Users_02APR.jtl','r') as rf:\n",
    "    with open ('D:\\\\Projects\\\\AllSec\\\\Scripts\\\\Reports\\\\smoketest_02_Apr\\\\SmokeTest1_85Users_02APR_output.jtl','w') as wf:\n",
    "        for line in rf:\n",
    "            if all(s not in line for s in strings):\n",
    "                wf.write(line)\n"
   ]
  },
  {
   "cell_type": "code",
   "execution_count": null,
   "metadata": {},
   "outputs": [],
   "source": []
  }
 ],
 "metadata": {
  "kernelspec": {
   "display_name": "Python 3",
   "language": "python",
   "name": "python3"
  },
  "language_info": {
   "codemirror_mode": {
    "name": "ipython",
    "version": 3
   },
   "file_extension": ".py",
   "mimetype": "text/x-python",
   "name": "python",
   "nbconvert_exporter": "python",
   "pygments_lexer": "ipython3",
   "version": "3.7.6"
  }
 },
 "nbformat": 4,
 "nbformat_minor": 4
}
